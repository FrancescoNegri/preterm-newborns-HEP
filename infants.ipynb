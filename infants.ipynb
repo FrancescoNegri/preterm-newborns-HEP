{
 "cells": [
  {
   "cell_type": "code",
   "execution_count": null,
   "metadata": {},
   "outputs": [],
   "source": [
    "%load_ext autoreload\n",
    "%autoreload 2\n",
    "\n",
    "import hyp\n",
    "import utils\n",
    "import os\n",
    "import json\n",
    "import pandas as pd\n",
    "import numpy as np\n",
    "from visualization import plot_circadian_cycle"
   ]
  },
  {
   "cell_type": "code",
   "execution_count": null,
   "metadata": {},
   "outputs": [],
   "source": [
    "settings = json.load(open('./settings.json'))\n",
    "\n",
    "path = settings['general']['dataset_dir']\n",
    "\n",
    "sub = settings['general']['sub']\n",
    "sub = utils.check_all_setting(sub, 'sub', path, prefix='sub')\n",
    "\n",
    "hours_counts = []\n",
    "counts = []\n",
    "\n",
    "for _sub in sub:\n",
    "    path = os.path.join(settings['general']['dataset_dir'], settings['general']['eeg_subdir'].split('ses')[0].replace(\n",
    "            '<SUB>', _sub))\n",
    "\n",
    "    ses = settings['general']['ses']\n",
    "    ses = utils.check_all_setting(ses, 'ses', path, suffix='w')\n",
    "\n",
    "    for _ses in ses:\n",
    "        path = os.path.join(settings['general']['dataset_dir'], settings['general']['eeg_subdir'].replace(\n",
    "            '<SUB>', _sub).replace('<SES>', _ses))\n",
    "        \n",
    "        run = settings['general']['run']\n",
    "        run = utils.check_all_setting(run, 'run', path, suffix=settings['hyp']['suffix'])\n",
    "\n",
    "        output_dir = utils.create_output_dir(settings['general']['output_dir'], _sub, _ses)\n",
    "\n",
    "        dfs = []\n",
    "\n",
    "        for _run in run:\n",
    "            filename = utils.get_filename(settings, _sub, _ses, _run, settings['hyp']['suffix'])\n",
    "            filename = os.path.join(path, filename)\n",
    "\n",
    "            dfs.append(hyp.get_hyp_df(filename, settings))\n",
    "\n",
    "        if len(dfs) != 0:\n",
    "            df = pd.concat(dfs, ignore_index=True)\n",
    "\n",
    "        hours_counts.append(hyp.count_full_hours(df, settings, tolerance=45))\n",
    "        quiet_counts = hyp.get_stage_cycle(df, settings, description='QuietSleep', tolerance=45)\n",
    "        active_counts = hyp.get_stage_cycle(df, settings, description='ActiveSleep', tolerance=45)\n",
    "        soas_counts = hyp.get_stage_cycle(df, settings, description='SleepOnsetActiveSleep', tolerance=45)\n",
    "        wake_counts = hyp.get_stage_cycle(df, settings, description='Wake', tolerance=45)\n",
    "        counts.append([quiet_counts, active_counts, soas_counts, wake_counts])\n",
    "        # hyp.count_adjacent_stages_per_hour(df, settings, description='ActiveSleep', min_duration=60)\n",
    "\n",
    "hours_counts = np.sum(hours_counts, axis=0)\n",
    "\n",
    "counts = np.sum(counts, axis=0)\n",
    "counts = np.divide(counts, hours_counts, out=np.zeros_like(counts), where=hours_counts!=0)"
   ]
  },
  {
   "cell_type": "code",
   "execution_count": null,
   "metadata": {},
   "outputs": [],
   "source": [
    "plot_circadian_cycle(counts, labels=('Quiet Sleep', 'Active Sleep', 'SleepOnsetActiveSleep', 'Wake'), color=['#9DD866', '#0B84A5','#CA472F', '#FFA600'], title='Circadian Cycle (subs ' + str(sub) + ')')\n",
    "plot_circadian_cycle([hours_counts], labels=['Hours'], title='Hours', ylim=None)"
   ]
  }
 ],
 "metadata": {
  "kernelspec": {
   "display_name": "Python 3.10.4 ('infants')",
   "language": "python",
   "name": "python3"
  },
  "language_info": {
   "codemirror_mode": {
    "name": "ipython",
    "version": 3
   },
   "file_extension": ".py",
   "mimetype": "text/x-python",
   "name": "python",
   "nbconvert_exporter": "python",
   "pygments_lexer": "ipython3",
   "version": "3.10.4"
  },
  "orig_nbformat": 4,
  "vscode": {
   "interpreter": {
    "hash": "c98c0df904b89574f56d9476b828aa72628a89b5413ae0fe0c8cdb8bcb0ef1c3"
   }
  }
 },
 "nbformat": 4,
 "nbformat_minor": 2
}
