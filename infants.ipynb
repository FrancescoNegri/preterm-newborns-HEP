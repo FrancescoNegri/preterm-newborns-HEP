{
 "cells": [
  {
   "cell_type": "code",
   "execution_count": null,
   "metadata": {},
   "outputs": [],
   "source": [
    "%load_ext autoreload\n",
    "%autoreload 2\n",
    "\n",
    "import hyp\n",
    "import utils\n",
    "import os\n",
    "import json\n",
    "import pandas as pd\n",
    "import numpy as np"
   ]
  },
  {
   "cell_type": "code",
   "execution_count": null,
   "metadata": {},
   "outputs": [],
   "source": [
    "settings = json.load(open('./settings.json'))\n",
    "\n",
    "path = settings['general']['dataset_dir']\n",
    "subs = ['05', '24', '37']\n",
    "hours_counts = []\n",
    "\n",
    "subs = utils.check_all_setting(subs, 'sub', path, prefix='sub')\n",
    "\n",
    "for sub in subs:\n",
    "    settings['general']['sub'] = sub\n",
    "    settings['general']['ses'] = '40w'\n",
    "    settings['general']['run'] = 'all'\n",
    "\n",
    "    os.remove('./settings.json')\n",
    "    with open('./settings.json', 'w') as f:\n",
    "        json.dump(settings, f)\n",
    "\n",
    "    sub = settings['general']['sub']\n",
    "    ses = settings['general']['ses']\n",
    "\n",
    "    path = os.path.join(settings['general']['dataset_dir'], settings['general']['eeg_subdir'].split('ses')[0].replace(\n",
    "            '<SUB>', sub))\n",
    "\n",
    "    ses = utils.check_all_setting(ses, 'ses', path, suffix='w')\n",
    "\n",
    "    for _ses in ses:\n",
    "        run = settings['general']['run']\n",
    "\n",
    "        output_dir = utils.create_output_dir(settings['general']['output_dir'], sub, _ses)\n",
    "\n",
    "        path = os.path.join(settings['general']['dataset_dir'], settings['general']['eeg_subdir'].replace(\n",
    "            '<SUB>', sub).replace('<SES>', _ses))\n",
    "        \n",
    "        run = utils.check_all_setting(run, 'run', path, suffix=settings['hyp']['suffix'])\n",
    "\n",
    "        dfs = []\n",
    "\n",
    "        for _run in run:\n",
    "            filename = utils.get_filename(settings, _ses, _run, settings['hyp']['suffix'])\n",
    "            filename = os.path.join(path, filename)\n",
    "\n",
    "            dfs.append(hyp.get_hyp_df(filename, settings))\n",
    "\n",
    "        df = pd.concat(dfs, ignore_index=True)\n",
    "        df = df[['description', 'date']]\n",
    "\n",
    "        df = hyp.normalize_dataframe(df, settings)\n",
    "\n",
    "        hours_counts.append(hyp.count_full_hours(df))\n",
    "\n",
    "hours_counts = np.sum(hours_counts, axis=0)\n",
    "hours_counts = [int(count) for count in hours_counts]\n",
    "print(hours_counts)"
   ]
  },
  {
   "cell_type": "code",
   "execution_count": null,
   "metadata": {},
   "outputs": [],
   "source": [
    "import matplotlib.pyplot as plt\n",
    "\n",
    "hours = range(0, 24)\n",
    "\n",
    "plt.xlabel('Hours')\n",
    "plt.ylabel('Counts')\n",
    "plt.xticks(hours)\n",
    "plt.yticks(range(0, np.max(hours_counts) + 1))\n",
    "plt.title('Recording Hours (tol = 30m)')\n",
    "plt.bar(hours, hours_counts)"
   ]
  }
 ],
 "metadata": {
  "kernelspec": {
   "display_name": "Python 3.10.4 ('infants')",
   "language": "python",
   "name": "python3"
  },
  "language_info": {
   "codemirror_mode": {
    "name": "ipython",
    "version": 3
   },
   "file_extension": ".py",
   "mimetype": "text/x-python",
   "name": "python",
   "nbconvert_exporter": "python",
   "pygments_lexer": "ipython3",
   "version": "3.10.4"
  },
  "orig_nbformat": 4,
  "vscode": {
   "interpreter": {
    "hash": "97e3f2b464c2b141c7a077b7d1b3440e263058610dc2c055881abfa82d81c9d0"
   }
  }
 },
 "nbformat": 4,
 "nbformat_minor": 2
}
