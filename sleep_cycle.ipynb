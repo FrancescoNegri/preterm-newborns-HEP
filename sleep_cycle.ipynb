{
 "cells": [
  {
   "cell_type": "code",
   "execution_count": null,
   "metadata": {},
   "outputs": [],
   "source": [
    "%load_ext autoreload\n",
    "%autoreload 2\n",
    "\n",
    "import hyp\n",
    "import utils\n",
    "import os\n",
    "import json\n",
    "import pandas as pd\n",
    "import numpy as np\n",
    "from tqdm.notebook import tqdm\n",
    "from visualization import plot_circadian_cycle"
   ]
  },
  {
   "cell_type": "code",
   "execution_count": null,
   "metadata": {},
   "outputs": [],
   "source": [
    "settings = json.load(open('./settings.json'))\n",
    "\n",
    "path = settings['general']['dataset_dir']\n",
    "\n",
    "sub = settings['general']['sub']\n",
    "sub = utils.check_all_setting(sub, 'sub', path, prefix='sub')\n",
    "\n",
    "hours_counts = []\n",
    "counts = []\n",
    "\n",
    "for _sub in tqdm(sub, desc='Subjects', unit='sub'):\n",
    "    path = os.path.join(settings['general']['dataset_dir'], settings['general']['eeg_subdir'].split('ses')[0].replace(\n",
    "            '<SUB>', _sub))\n",
    "\n",
    "    ses = settings['general']['ses']\n",
    "    ses = utils.check_all_setting(ses, 'ses', path, suffix='w')\n",
    "\n",
    "    for _ses in ses:\n",
    "        path = os.path.join(settings['general']['dataset_dir'], settings['general']['eeg_subdir'].replace(\n",
    "            '<SUB>', _sub).replace('<SES>', _ses))\n",
    "        \n",
    "        run = settings['general']['run']\n",
    "        run = utils.check_all_setting(run, 'run', path, suffix=settings['hyp']['suffix'])\n",
    "\n",
    "        output_dir = utils.create_output_dir(settings['general']['output_dir'], _sub, _ses)\n",
    "\n",
    "        dfs = []\n",
    "\n",
    "        for _run in run:\n",
    "            filename = utils.get_filename(settings, _sub, _ses, _run, settings['hyp']['suffix'])\n",
    "            filename = os.path.join(path, filename)\n",
    "\n",
    "            dfs.append(hyp.get_stages(filename, settings))\n",
    "\n",
    "        if len(dfs) != 0:\n",
    "            df = pd.concat(dfs, ignore_index=True)\n",
    "\n",
    "            hours_counts.append(hyp.count_full_hours(df, settings, tolerance=45))\n",
    "            quiet_counts = hyp.get_stage_cycle(df, settings, description='QuietSleep', tolerance=45)\n",
    "            active_counts = hyp.get_stage_cycle(df, settings, description='ActiveSleep', tolerance=45)\n",
    "            soas_counts = hyp.get_stage_cycle(df, settings, description='SleepOnsetActiveSleep', tolerance=45)\n",
    "            wake_counts = hyp.get_stage_cycle(df, settings, description='Wake', tolerance=45)\n",
    "            counts.append([quiet_counts, active_counts, soas_counts, wake_counts])\n",
    "            # hyp.count_adjacent_stages_per_hour(df, settings, description='ActiveSleep', min_duration=60)\n",
    "\n",
    "hours_counts = np.sum(hours_counts, axis=0)\n",
    "\n",
    "counts = np.sum(counts, axis=0)\n",
    "counts = np.divide(counts, hours_counts, out=np.zeros_like(counts), where=hours_counts!=0)"
   ]
  },
  {
   "cell_type": "code",
   "execution_count": null,
   "metadata": {},
   "outputs": [],
   "source": [
    "plot_circadian_cycle(counts, labels=('Quiet Sleep', 'Active Sleep', 'SleepOnsetActiveSleep', 'Wake'), color=['#9DD866', '#0B84A5','#CA472F', '#FFA600'], title='Circadian Cycle (subs ' + str(sub) + ')')\n",
    "plot_circadian_cycle([hours_counts], labels=['Hours'], title='Hours', ylim=None)"
   ]
  }
 ],
 "metadata": {
  "kernelspec": {
   "display_name": "Python 3 (ipykernel)",
   "language": "python",
   "name": "python3"
  },
  "language_info": {
   "codemirror_mode": {
    "name": "ipython",
    "version": 3
   },
   "file_extension": ".py",
   "mimetype": "text/x-python",
   "name": "python",
   "nbconvert_exporter": "python",
   "pygments_lexer": "ipython3",
   "version": "3.10.6"
  },
  "varInspector": {
   "cols": {
    "lenName": 16,
    "lenType": 16,
    "lenVar": 40
   },
   "kernels_config": {
    "python": {
     "delete_cmd_postfix": "",
     "delete_cmd_prefix": "del ",
     "library": "var_list.py",
     "varRefreshCmd": "print(var_dic_list())"
    },
    "r": {
     "delete_cmd_postfix": ") ",
     "delete_cmd_prefix": "rm(",
     "library": "var_list.r",
     "varRefreshCmd": "cat(var_dic_list()) "
    }
   },
   "types_to_exclude": [
    "module",
    "function",
    "builtin_function_or_method",
    "instance",
    "_Feature"
   ],
   "window_display": false
  },
  "vscode": {
   "interpreter": {
    "hash": "ed480906068c786d3dc76351602671885be1234ac6c3bd44f15b24cafa7fba27"
   }
  }
 },
 "nbformat": 4,
 "nbformat_minor": 2
}
