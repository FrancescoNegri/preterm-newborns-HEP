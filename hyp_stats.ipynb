{
 "cells": [
  {
   "cell_type": "code",
   "execution_count": null,
   "metadata": {},
   "outputs": [],
   "source": [
    "%load_ext autoreload\n",
    "%autoreload 2\n",
    "\n",
    "import os\n",
    "import math\n",
    "import hyp_analysis\n",
    "import json"
   ]
  },
  {
   "cell_type": "code",
   "execution_count": null,
   "metadata": {},
   "outputs": [],
   "source": [
    "settings = json.load(open('./settings.json'))\n",
    "\n",
    "sub = settings['sub']\n",
    "ses = settings['ses']\n",
    "run = settings['run']\n",
    "\n",
    "labels = []\n",
    "unique_labels = []\n",
    "\n",
    "path = os.path.join(settings['dataset_dir'], settings['eeg_subdir'].replace(\n",
    "    '<SUB>', sub).replace('<SES>', ses))\n",
    "\n",
    "if (run == 'all') or (run == ['all']):\n",
    "    run = []\n",
    "    for file in os.listdir(path):\n",
    "        if file.endswith(settings['hyp_suffix']):\n",
    "            _, _, _, _run, _ = file.split('_')\n",
    "            _, _run = _run.split('-')\n",
    "            run.append(_run)\n",
    "\n",
    "if type(run) is str:\n",
    "    run = [run]\n",
    "\n",
    "for _run in run:\n",
    "    filename = settings['filename'] + settings['hyp_suffix']\n",
    "\n",
    "    filename = filename.replace('<SUB>', sub)\n",
    "    filename = filename.replace('<SES>', ses)\n",
    "    filename = filename.replace('<RUN>', _run)\n",
    "\n",
    "    filename = os.path.join(path, filename)\n",
    "\n",
    "    _labels, _unique_labels = hyp_analysis.get_labels(filename)\n",
    "\n",
    "    for label in _unique_labels:\n",
    "        try:\n",
    "            label.index(unique_labels)\n",
    "        except:\n",
    "            unique_labels.append(label)\n",
    "\n",
    "    labels.extend(_labels)\n",
    "\n",
    "stats = hyp_analysis.get_stats(labels, unique_labels)\n",
    "\n",
    "print(stats)"
   ]
  }
 ],
 "metadata": {
  "kernelspec": {
   "display_name": "Python 3.10.4 ('infants')",
   "language": "python",
   "name": "python3"
  },
  "language_info": {
   "codemirror_mode": {
    "name": "ipython",
    "version": 3
   },
   "file_extension": ".py",
   "mimetype": "text/x-python",
   "name": "python",
   "nbconvert_exporter": "python",
   "pygments_lexer": "ipython3",
   "version": "3.10.4"
  },
  "orig_nbformat": 4,
  "vscode": {
   "interpreter": {
    "hash": "c98c0df904b89574f56d9476b828aa72628a89b5413ae0fe0c8cdb8bcb0ef1c3"
   }
  }
 },
 "nbformat": 4,
 "nbformat_minor": 2
}
