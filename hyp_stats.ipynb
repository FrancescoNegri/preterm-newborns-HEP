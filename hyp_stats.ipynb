{
 "cells": [
  {
   "cell_type": "code",
   "execution_count": null,
   "metadata": {},
   "outputs": [],
   "source": [
    "%load_ext autoreload\n",
    "%autoreload 2\n",
    "\n",
    "import os\n",
    "import math\n",
    "import hyp_analysis\n",
    "import json\n",
    "import utils"
   ]
  },
  {
   "cell_type": "code",
   "execution_count": null,
   "metadata": {},
   "outputs": [],
   "source": [
    "settings = json.load(open('./settings.json'))\n",
    "\n",
    "sub = settings['sub']\n",
    "ses = settings['ses']\n",
    "\n",
    "if (ses == 'all') or (ses == ['all']):\n",
    "    ses = []\n",
    "    path = os.path.join(settings['dataset_dir'], settings['eeg_subdir'].split('ses')[0].replace(\n",
    "    '<SUB>', sub))\n",
    "\n",
    "    for file in os.listdir(path):\n",
    "        if file.endswith('w'):\n",
    "            _, _ses = file.split('-')\n",
    "            ses.append(_ses)\n",
    "\n",
    "if type(ses) is str:\n",
    "    ses = [ses]"
   ]
  },
  {
   "cell_type": "code",
   "execution_count": null,
   "metadata": {},
   "outputs": [],
   "source": [
    "for _ses in ses:\n",
    "    run = settings['run']\n",
    "    \n",
    "    output_dir = utils.create_output_dir(settings['output_dir'], sub, _ses)\n",
    "\n",
    "    labels = []\n",
    "    unique_labels = []\n",
    "\n",
    "    output = {}\n",
    "    output['sub'] = sub\n",
    "    output['ses'] = _ses\n",
    "    output['overall'] = {}\n",
    "    output['runs'] = []\n",
    "\n",
    "    path = os.path.join(settings['dataset_dir'], settings['eeg_subdir'].replace(\n",
    "        '<SUB>', sub).replace('<SES>', _ses))\n",
    "\n",
    "    if (run == 'all') or (run == ['all']):\n",
    "        run = []\n",
    "        for file in os.listdir(path):\n",
    "            if file.endswith(settings['hyp_suffix']):\n",
    "                _, _, _, _run, _ = file.split('_')\n",
    "                _, _run = _run.split('-')\n",
    "                run.append(_run)\n",
    "\n",
    "    if type(run) is str:\n",
    "        run = [run]\n",
    "\n",
    "    for _run in run:\n",
    "        filename = settings['filename'] + settings['hyp_suffix']\n",
    "\n",
    "        filename = filename.replace('<SUB>', sub).replace('<SES>', _ses).replace('<RUN>', _run)\n",
    "        filename = os.path.join(path, filename)\n",
    "\n",
    "        _labels, _unique_labels = hyp_analysis.get_labels(filename)\n",
    "        _stats = hyp_analysis.get_stats(_labels, _unique_labels)\n",
    "        output['runs'].append({'run-' + _run: _stats})\n",
    "\n",
    "        for label in _unique_labels:\n",
    "            try:\n",
    "                label.index(unique_labels)\n",
    "            except:\n",
    "                unique_labels.append(label)\n",
    "\n",
    "        labels.extend(_labels)\n",
    "\n",
    "    stats = hyp_analysis.get_stats(labels, unique_labels)\n",
    "    output['overall'] = stats\n",
    "\n",
    "    filename, _ = settings['filename'].replace('<SUB>', sub).replace('<SES>', _ses).split('_run')\n",
    "\n",
    "    with open(os.path.join(output_dir, filename + '_stats.json'), 'w') as f:\n",
    "        json.dump(output, f)"
   ]
  }
 ],
 "metadata": {
  "kernelspec": {
   "display_name": "Python 3.10.4 ('infants')",
   "language": "python",
   "name": "python3"
  },
  "language_info": {
   "codemirror_mode": {
    "name": "ipython",
    "version": 3
   },
   "file_extension": ".py",
   "mimetype": "text/x-python",
   "name": "python",
   "nbconvert_exporter": "python",
   "pygments_lexer": "ipython3",
   "version": "3.10.4"
  },
  "orig_nbformat": 4,
  "vscode": {
   "interpreter": {
    "hash": "c98c0df904b89574f56d9476b828aa72628a89b5413ae0fe0c8cdb8bcb0ef1c3"
   }
  }
 },
 "nbformat": 4,
 "nbformat_minor": 2
}
