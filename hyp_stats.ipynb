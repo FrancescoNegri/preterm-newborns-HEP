{
 "cells": [
  {
   "cell_type": "code",
   "execution_count": null,
   "metadata": {},
   "outputs": [],
   "source": [
    "%load_ext autoreload\n",
    "%autoreload 2\n",
    "\n",
    "import os\n",
    "import math\n",
    "import hyp_analysis"
   ]
  },
  {
   "cell_type": "code",
   "execution_count": null,
   "metadata": {},
   "outputs": [],
   "source": [
    "sub = '15'\n",
    "ses = '33w'\n",
    "run = 'all'\n",
    "\n",
    "dataset_path = '../Shared/infants-dataset/'\n",
    "path = 'sub-<SUB>/ses-<SES>/eeg/'\n",
    "\n",
    "labels = []\n",
    "unique_labels = []\n",
    "\n",
    "path = path.replace('<SUB>', sub)\n",
    "path = path.replace('<SES>', ses)\n",
    "\n",
    "path = os.path.join(dataset_path, path)\n",
    "\n",
    "if (run == 'all') or (run == ['all']):\n",
    "    run = []\n",
    "    for file in os.listdir(path):\n",
    "        if file.endswith('hyp.txt'):\n",
    "            _, _, _, _run, _ = file.split('_')\n",
    "            _, _run = _run.split('-')\n",
    "            run.append(_run)\n",
    "\n",
    "if type(run) is str: run = [run]\n",
    "\n",
    "for _run in run:\n",
    "    filename = 'sub-<SUB>_ses-<SES>_task-psg_run-<RUN>_hyp.txt'\n",
    "\n",
    "    filename = filename.replace('<SUB>', sub)\n",
    "    filename = filename.replace('<SES>', ses)\n",
    "    filename = filename.replace('<RUN>', _run)\n",
    "\n",
    "    filename = os.path.join(path, filename)\n",
    "\n",
    "    _labels, _unique_labels = hyp_analysis.get_labels(filename)\n",
    "\n",
    "    for label in _unique_labels:\n",
    "        try:\n",
    "            label.index(unique_labels)\n",
    "        except:\n",
    "            unique_labels.append(label)\n",
    "\n",
    "    labels.extend(_labels)\n",
    "    \n",
    "stats = hyp_analysis.get_stats(labels, unique_labels)\n",
    "\n",
    "print(stats)"
   ]
  }
 ],
 "metadata": {
  "kernelspec": {
   "display_name": "Python 3.10.4 ('infants')",
   "language": "python",
   "name": "python3"
  },
  "language_info": {
   "codemirror_mode": {
    "name": "ipython",
    "version": 3
   },
   "file_extension": ".py",
   "mimetype": "text/x-python",
   "name": "python",
   "nbconvert_exporter": "python",
   "pygments_lexer": "ipython3",
   "version": "3.10.4"
  },
  "orig_nbformat": 4,
  "vscode": {
   "interpreter": {
    "hash": "c98c0df904b89574f56d9476b828aa72628a89b5413ae0fe0c8cdb8bcb0ef1c3"
   }
  }
 },
 "nbformat": 4,
 "nbformat_minor": 2
}
